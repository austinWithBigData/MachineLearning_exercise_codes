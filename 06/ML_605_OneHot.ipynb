{
 "cells": [
  {
   "cell_type": "code",
   "execution_count": 1,
   "metadata": {},
   "outputs": [
    {
     "name": "stdout",
     "output_type": "stream",
     "text": [
      "[[ 0.  1.  0.  0.  1.  0.  1.  0.]\n",
      " [ 0.  1.  0.  0.  1.  1.  0.  0.]\n",
      " [ 0.  0.  1.  1.  0.  0.  0.  1.]\n",
      " [ 1.  0.  0.  0.  1.  0.  0.  1.]]\n"
     ]
    }
   ],
   "source": [
    "import pandas as pd\n",
    "\n",
    "if __name__ == '__main__':\n",
    "    from sklearn.preprocessing import OneHotEncoder\n",
    "    ohe = OneHotEncoder(sparse=False)\n",
    "    x = [[1, 2, 1],\n",
    "         [1, 2, 0],\n",
    "         [2, 0, 2],\n",
    "         [0, 2, 2]]\n",
    "    x_onehot = ohe.fit_transform(x)\n",
    "    print(x_onehot)"
   ]
  }
 ],
 "metadata": {
  "kernelspec": {
   "display_name": "Python 3",
   "language": "python",
   "name": "python3"
  },
  "language_info": {
   "codemirror_mode": {
    "name": "ipython",
    "version": 3
   },
   "file_extension": ".py",
   "mimetype": "text/x-python",
   "name": "python",
   "nbconvert_exporter": "python",
   "pygments_lexer": "ipython3",
   "version": "3.6.2"
  }
 },
 "nbformat": 4,
 "nbformat_minor": 2
}
