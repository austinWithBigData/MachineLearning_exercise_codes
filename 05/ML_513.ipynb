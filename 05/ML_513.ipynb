{
 "cells": [
  {
   "cell_type": "code",
   "execution_count": 8,
   "metadata": {
    "collapsed": true
   },
   "outputs": [],
   "source": [
    "import numpy as np\n",
    "import matplotlib.pyplot as plt\n",
    "import matplotlib.cm as cm\n",
    "import os"
   ]
  },
  {
   "cell_type": "code",
   "execution_count": 9,
   "metadata": {
    "collapsed": true
   },
   "outputs": [],
   "source": [
    "# functions\n",
    "def divergent(c):\n",
    "    z = 0\n",
    "    i = 0\n",
    "    while i < 100:\n",
    "        z = z**2 + c\n",
    "        if abs(z) > 2:\n",
    "            break\n",
    "        i += 1\n",
    "    return i\n",
    "\n",
    "# 曼德博集合（Mandelbrot set，或译為曼德布洛特复数集合） 是一种在复平面上组成分形的点的集合\n",
    "# 曼德博集合可以用复二次多项式来定义：\n",
    "# fc(z) = z**2 + c   ; c 是复数参数\n",
    "# \n",
    "def draw_mandelbrot(center_x, center_y, size):\n",
    "    output_path = '.\\\\MandelbrotOutput\\\\'\n",
    "    if not os.path.exists(output_path):\n",
    "        os.mkdir(output_path)\n",
    "    \n",
    "    x1, x2 = center_x - size, center_x + size\n",
    "    y1, y2 = center_y - size, center_y + size\n",
    "    x, y = np.mgrid[x1:x2:500j, y1:y2:500j]\n",
    "    c = x + y * 1j\n",
    "    divergent_ = np.frompyfunc(divergent, 1, 1)\n",
    "    mandelbrot = divergent_(c)\n",
    "    mandelbrot = mandelbrot.astype(np.float64)    # ufunc返回PyObject数组\n",
    "    print(size, mandelbrot.max(), mandelbrot.min())\n",
    "    plt.pcolormesh(x, y, mandelbrot, cmap=cm.jet)\n",
    "    plt.xlim((np.min(x), np.max(x)))\n",
    "    plt.ylim((np.min(y), np.max(y)))\n",
    "    plt.savefig(output_path+str(size)+'.png')"
   ]
  },
  {
   "cell_type": "code",
   "execution_count": 11,
   "metadata": {},
   "outputs": [
    {
     "name": "stdout",
     "output_type": "stream",
     "text": [
      "4 100.0 0.0\n",
      "1.0\n",
      "1.0 100.0 0.0\n",
      "0.1\n",
      "0.1 100.0 5.0\n",
      "0.01\n",
      "0.01 100.0 16.0\n",
      "0.001\n",
      "0.001 100.0 45.0\n"
     ]
    }
   ],
   "source": [
    "# start main\n",
    "draw_mandelbrot(0, 0, 4)\n",
    "\n",
    "interested_x = 0.33987\n",
    "interested_y = -0.575578\n",
    "interested_x, interested_y = 0.27322626, 0.595153338\n",
    "for size in np.logspace(0, -3, 4, base=10):\n",
    "    print(size)\n",
    "    draw_mandelbrot(interested_x, interested_y, size)"
   ]
  }
 ],
 "metadata": {
  "kernelspec": {
   "display_name": "Python 3",
   "language": "python",
   "name": "python3"
  },
  "language_info": {
   "codemirror_mode": {
    "name": "ipython",
    "version": 3
   },
   "file_extension": ".py",
   "mimetype": "text/x-python",
   "name": "python",
   "nbconvert_exporter": "python",
   "pygments_lexer": "ipython3",
   "version": "3.6.2"
  }
 },
 "nbformat": 4,
 "nbformat_minor": 2
}
