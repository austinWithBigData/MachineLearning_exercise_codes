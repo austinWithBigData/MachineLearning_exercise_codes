{
 "cells": [
  {
   "cell_type": "code",
   "execution_count": 1,
   "metadata": {
    "collapsed": true
   },
   "outputs": [],
   "source": [
    "import numpy as np\n",
    "import os\n",
    "from PIL import Image"
   ]
  },
  {
   "cell_type": "code",
   "execution_count": 2,
   "metadata": {
    "collapsed": true
   },
   "outputs": [],
   "source": [
    "# convolve function\n",
    "def convolve(image, weight):\n",
    "    height, width = image.shape\n",
    "    h, w = weight.shape\n",
    "    height_new = height - h + 1\n",
    "    width_new = width - w + 1\n",
    "    image_new = np.zeros((height_new, width_new), dtype=np.float)\n",
    "    for i in range(height_new):\n",
    "        for j in range(width_new):\n",
    "            image_new[i,j] = np.sum(image[i:i+h, j:j+w] * weight)\n",
    "    image_new = image_new.clip(0, 255)\n",
    "    image_new = np.rint(image_new).astype('uint8')\n",
    "    return image_new"
   ]
  },
  {
   "cell_type": "code",
   "execution_count": 3,
   "metadata": {},
   "outputs": [
    {
     "name": "stdout",
     "output_type": "stream",
     "text": [
      "梯度检测：\n",
      "avg3 R G B\n",
      "avg5 R G B\n",
      "gauss R G B\n",
      "soble_x R G B\n",
      "soble_y R G B\n",
      "soble R G B\n",
      "prewitt_x R G B\n",
      "prewitt_y R G B\n",
      "prewitt R G B\n",
      "laplacian4 R G B\n",
      "laplacian8 R G B\n"
     ]
    }
   ],
   "source": [
    "# start main function\n",
    "A = Image.open(\".\\\\son.png\", 'r')\n",
    "output_path = '.\\\\ImageConvolve\\\\'\n",
    "if not os.path.exists(output_path):\n",
    "    os.mkdir(output_path)\n",
    "\n",
    "    a = np.array(A)\n",
    "avg3 = np.ones((3, 3))\n",
    "avg3 /= avg3.sum()\n",
    "avg5 = np.ones((5, 5))\n",
    "avg5 /= avg5.sum()\n",
    "gauss = np.array(([0.003, 0.013, 0.022, 0.013, 0.003],\n",
    "                  [0.013, 0.059, 0.097, 0.059, 0.013],\n",
    "                  [0.022, 0.097, 0.159, 0.097, 0.022],\n",
    "                  [0.013, 0.059, 0.097, 0.059, 0.013],\n",
    "                  [0.003, 0.013, 0.022, 0.013, 0.003]))\n",
    "soble_x = np.array(([-1, 0, 1], [-2, 0, 2], [-1, 0, 1]))\n",
    "soble_y = np.array(([-1, -2, -1], [0, 0, 0], [1, 2, 1]))\n",
    "soble = np.array(([-1, -1, 0], [-1, 0, 1], [0, 1, 1]))\n",
    "prewitt_x = np.array(([-1, 0, 1], [-1, 0, 1], [-1, 0, 1]))\n",
    "prewitt_y = np.array(([-1, -1,-1], [0, 0, 0], [1, 1, 1]))\n",
    "prewitt = np.array(([-2, -1, 0], [-1, 0, 1], [0, 1, 2]))\n",
    "laplacian4 = np.array(([0, -1, 0], [-1, 4, -1], [0, -1, 0]))\n",
    "laplacian8 = np.array(([-1, -1, -1], [-1, 8, -1], [-1, -1, -1]))\n",
    "weight_list = ('avg3', 'avg5', 'gauss', 'soble_x', 'soble_y', 'soble', 'prewitt_x', 'prewitt_y', 'prewitt', 'laplacian4', 'laplacian8')\n",
    "print('梯度检测：')\n",
    "\n",
    "for weight in weight_list:\n",
    "    print(weight, 'R', end=' ')\n",
    "    R = convolve(a[:, :, 0], eval(weight))\n",
    "    print('G', end=' ')\n",
    "    G = convolve(a[:, :, 1], eval(weight))\n",
    "    print('B')\n",
    "    B = convolve(a[:, :, 2], eval(weight))\n",
    "    I = np.stack((R, G, B), 2)\n",
    "    Image.fromarray(I).save(output_path + weight + '.png')\n",
    "    "
   ]
  }
 ],
 "metadata": {
  "kernelspec": {
   "display_name": "Python 3",
   "language": "python",
   "name": "python3"
  },
  "language_info": {
   "codemirror_mode": {
    "name": "ipython",
    "version": 3
   },
   "file_extension": ".py",
   "mimetype": "text/x-python",
   "name": "python",
   "nbconvert_exporter": "python",
   "pygments_lexer": "ipython3",
   "version": "3.6.2"
  }
 },
 "nbformat": 4,
 "nbformat_minor": 2
}
